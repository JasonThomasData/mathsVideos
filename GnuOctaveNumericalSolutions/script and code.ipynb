{
 "cells": [
  {
   "cell_type": "markdown",
   "id": "fe37f2ff",
   "metadata": {},
   "source": [
    "### Using GNU Octave to numerically find a solution for a system of harmonic oscillators\n",
    "\n",
    "#### Description\n",
    "\n",
    "I talk about how I use GNU Octave to find approximate solutions to systems of differential equations by using numerical techniques.\n",
    "\n",
    "Links to elsewhere\n",
    "- Deriving the second order DE of a single pendulum: Physics with Elliot, https://www.youtube.com/watch?v=0q0L7Fj4dk8\n",
    "- Choosing an ODE solver: Matlab documentation, https://au.mathworks.com/help/matlab/math/choose-an-ode-solver.html\n",
    "- Setting up Gnu Octave to run with Jupyter Notebook, https://www.jason-thomas.xyz/post?postNum=20\n",
    "- The video script, code to find solutions, and all files used to make the video, \n",
    "- Video sample of metronomes in-phase sync, \n",
    "\n",
    "#### Script\n",
    "\n",
    "In this video I'd like to tell you about how I use GNU Octave to find approximate solutions to systems of differential equations by using numerical methods.\n",
    "\n",
    "VIDEO CLIP\n",
    "\n",
    "First though, check out this contraption I made in the shed. \n",
    " \n",
    "I hope you can anticipate that me moving this one pendulum won't affect the others in any noticable way.\n",
    "\n",
    "But what happens if I sit the whole wooden thing on some rollers? This is now a system of pendulums.\n",
    "\n",
    "You might have seen videos where a series of metronomes are set on a plank and then one cans and they end up being synchronised.\n",
    "\n",
    "This wooden thing is also a series of harmonic oscillators like the metronomes. The difference is that metronomes are forced harmonic oscillators. Them being forced just means that they are wound up by spring or sometimes they have batteries internally. A pendulum on a wind up clock is also a forced oscillator, because the clock forces it. However, these simple pendula on this wooden platform are unforced oscillators. Let's see what happens when I let one go.\n",
    "\n",
    "VIDEO CLIP\n",
    "\n",
    "They become synchronised, but they are not in-phase like the metronomes. These are in anti-phase synchronisation. It seems that this system has a stable state where the platform doesn't move.\n",
    "\n",
    "Let's now introduce a differential equation to understand what's going on. Let's think about just one pendulum to begin with and then we can expand on that later.\n",
    "\n",
    "$ \\frac{d \\theta}{dt} + \\frac{g}{l} sin \\theta = 0 $\n",
    "\n",
    "This is a second order homogenous differential equation that governs the movement of a simple harmonic oscillator.\n",
    "\n",
    "Deriving that equation isn't the focus of this video but if you would like to see how to derive it, then consider watching a video on the channel \"Physics with Elliot\" that talks about how to do that. I found it helpful. The link is in the description.\n",
    "\n",
    "Note that in that video an analytic solution is found for the small angle approximation $ \\sin \\theta \\approx \\theta $. We won't bother with that since we're using a numerical technique to find an approximate solution. The approximation we find should be sufficient to understand the system's behaviour.\n",
    "\n",
    "Before we can use this in Gnu Octave we should rearrange this second order equation to be a system of two first order equations. By using a change of variables we should be able to do this for any second order differential equation.\n",
    "\n",
    "$ x_1 = \\theta $\n",
    "\n",
    "$ x_1' = \\theta' = x_2 $\n",
    "\n",
    "$ x_2' = \\theta'' $\n",
    "\n",
    "So, let's substitute these new variables into the equation\n",
    "\n",
    "$ x_2' + \\frac{g}{l} sin x_1 = 0 $\n",
    "\n",
    "And so we have this system of equations:\n",
    "\n",
    "$ x_1' = x_2 $\n",
    "\n",
    "$ x_2' = -\\frac{g}{l} sin x_1 $\n",
    "\n",
    "So far the system of equations represent a simple harmonic oscillator; simple here means the oscillator has no friction acting upon it. Simple harmonic oscillators can be modified to include friction and other sources of dampening. Here, $ k $ is a friction parameter.\n",
    "\n",
    "$ x_1' = x_2 $\n",
    "\n",
    "$ x_2' = -\\frac{g}{l} sin x_1 - k x_2 $\n",
    "\n",
    "Then given some initial conditions for $ x_1, x_2 $, we can get the Octave function ODE45 to approximate the solution. As far as I can tell the function in Matlab and Octave behaves the same. It is a Runge Kutta method, and I think the most basic example of these is Euler's Method.\n",
    "\n",
    "Before you can use ODE45 in Octave, you should install the ocl package via forge.\n",
    "\n",
    "The first step is to define a function that is the system of differential equations so that Octave can use it."
   ]
  },
  {
   "cell_type": "code",
   "execution_count": 12,
   "id": "f2f79777",
   "metadata": {},
   "outputs": [
    {
     "data": {
      "image/png": "[encoded data removed]",
      "text/plain": [
       "<IPython.core.display.Image object>"
      ]
     },
     "metadata": {},
     "output_type": "display_data"
    }
   ],
   "source": [
    "clear;\n",
    "\n",
    "function dx = dynamics_pendulum(t,x)\n",
    "    k = 0.3;\n",
    "    l=1; \n",
    "    g=9.81;\n",
    "    dx=[x(2);\n",
    "        -(g/l)*sin(x(1))-k*x(2)];\n",
    "end\n",
    "\n",
    "time_step=0.05;\n",
    "t0=[0:time_step:20];\n",
    "x0=[1; 0];\n",
    "\n",
    "[t,solution]=ode45(@dynamics_pendulum,t0,x0);\n",
    "x1=solution(:,1);\n",
    "x2=solution(:,2);\n",
    "\n",
    "plot(t,x1,'r');\n",
    "grid;\n",
    "hold on;\n",
    "plot(t,x2,'k');\n",
    "legend(\"theta\", \"returning force\")\n",
    "xlabel(\"time (t)\");\n",
    "hold off;"
   ]
  },
  {
   "cell_type": "markdown",
   "id": "9dc1e9e3",
   "metadata": {},
   "source": [
    "Let's take a look at the function dynamics_pendulum. It's convenient to define these parameters locally, like k for friction, l for the pendulum arm length and g for the gravitational constant.\n",
    "\n",
    "Note that here the value of friction, $ k $, was arbitrarily chosen but I give an explanation for this at the end of the video.\n",
    "\n",
    "We must define the independent variable. Like in almost any model of a physical system, we take time to be the independent variable.\n",
    "\n",
    "x0 is the initial condition vector. You then pass the function of equations, independent variable and initial conditions to the ODE45 method. \n",
    "\n",
    "The ODE45 method iterates over the points in the independent variable and passes those, and the approximated point for each equation, to your function of equations. Those are substituted into the equations and the equations with those substitutions are then returned to ODE45. ODE45 will then know how to approximate the next values for the equations, in a similar way to Euler's Method. \n",
    "\n",
    "There are other solvers but the Matlab documentation says that ODE45 is usually the one you want to use. A link to the documentation on how to choose a solver is in the notes.\n",
    "\n",
    "Then we graph the result, and look what we get. These are approximated values for x_1, or theta, and for x_2, or the returning force, at every point of t.\n",
    "\n",
    "PIC OF GRAPH AND VIDEO OF ONE PENDULUM\n",
    "\n",
    "---\n",
    "\n",
    "So far, so good. But that was just one pendulum isolated from the others. Let's now sit a system of two pendula, on a shared platform, on some rollers to see what happens.\n",
    "\n",
    "VIDEO\n",
    "\n",
    "What's happening here is the dominant pendulum forces the platform very slightly, but the pendulum at rest has inertia. By the time the formerly steady pendulum catches up to its rest position the platform is already heading in the opposite direction. This continues until the pendula are in anti-phase synchronisation, which means the platform will no longer move.\n",
    "\n",
    "Recall that the former equation determined the angle of the single pendulum. We can use that again but we can make a change to say that each pendulum dampens every other pendulum.\n",
    "\n",
    "Let's define a \"nudge\" parameter for each pendulum to achieve that dampening effect on other pendula. For a pendulum to nudge another pendulum causes it to lose energy, so a pendulum's total loss of energy is that nudge plus friction. \n"
   ]
  },
  {
   "cell_type": "code",
   "execution_count": 8,
   "id": "1d820f3f",
   "metadata": {},
   "outputs": [
    {
     "data": {
      "image/png": "[encoded data removed]",
      "text/plain": [
       "<IPython.core.display.Image object>"
      ]
     },
     "metadata": {},
     "output_type": "display_data"
    }
   ],
   "source": [
    "clear;\n",
    "\n",
    "function dx = dynamics_pendulum(t,x)\n",
    "    k = 0.2;\n",
    "    n = 0.2;\n",
    "    l=1; \n",
    "    g=9.81;\n",
    "    dx(1) = x(2); \n",
    "    dx(2) = -(g/l)*sin(x(1)) -(k+n)*x(2) -n*x(4);\n",
    "    dx(3) = x(4);\n",
    "    dx(4) = -(g/l)*sin(x(3)) -(k+n)*x(4) -n*x(2);\n",
    "end\n",
    "\n",
    "time_step=0.05;\n",
    "t0=[0:time_step:30];\n",
    "x0=[1; 0; 0.1; 0];\n",
    "[t,solution]=ode45(@dynamics_pendulum,t0,x0);\n",
    "x1=solution(:,1);\n",
    "x3=solution(:,3);\n",
    "\n",
    "plot(t,x1,'r');\n",
    "grid;\n",
    "hold on;\n",
    "plot(t,x3,'k');\n",
    "legend(\"theta_1\", \"theta_2\")\n",
    "xlabel(\"time (t)\");\n",
    "ylabel(\"theta\");\n",
    "hold off;"
   ]
  },
  {
   "cell_type": "markdown",
   "id": "4baf2442",
   "metadata": {},
   "source": [
    "This chart shows a system of two equations, which represent the two pendula, and this shows the pendula do end up with anti-phase synchronisation.\n",
    "\n",
    "PIC OF GRAPH WITH VIDEO\n",
    "\n",
    "---\n",
    "\n",
    "Now for the initial problem, the platform of three equations.\n",
    "\n",
    "VIDEO\n",
    "\n",
    "This is essentially the same as the system of two equations but there's a slight difference. The force that each pendulum gives to the platform is absorbed by every other pendulum. The force that a pendulum gains from the system is the average of the force exerted by the other two pendula."
   ]
  },
  {
   "cell_type": "code",
   "execution_count": 14,
   "id": "bec48163",
   "metadata": {},
   "outputs": [
    {
     "data": {
      "image/png": "[encoded data removed]",
      "text/plain": [
       "<IPython.core.display.Image object>"
      ]
     },
     "metadata": {},
     "output_type": "display_data"
    }
   ],
   "source": [
    "clear;\n",
    "\n",
    "function dx = dynamics_pendulum(t,x)\n",
    "    k = 0.1;\n",
    "    n = 0.2;\n",
    "    l=1;\n",
    "    g=9.81;\n",
    "    dx(1) = x(2); \n",
    "    dx(2) = -(g/l)*sin(x(1)) -(k+n)*x(2) -n*(x(4) + x(6))/2; \n",
    "    dx(3) = x(4);\n",
    "    dx(4) = -(g/l)*sin(x(3)) -(k+n)*x(4) -n*(x(2) + x(6))/2;\n",
    "    dx(5) = x(6);\n",
    "    dx(6) = -(g/l)*sin(x(5)) -(k+n)*x(6) -n*(x(2) + x(4))/2;\n",
    "end\n",
    "\n",
    "time_step=0.05;\n",
    "t0=[0:time_step:30];\n",
    "x0=[1; 0; 0.01; 0; -0.02; 0];\n",
    "\n",
    "[t,solution]=ode45(@dynamics_pendulum,t0,x0);\n",
    "x1=solution(:,1);\n",
    "x3=solution(:,3);\n",
    "x5=solution(:,5);\n",
    "\n",
    "plot(t,x1,'r');\n",
    "grid;\n",
    "hold on;\n",
    "plot(t,x3,'k');\n",
    "plot(t,x5,'b');\n",
    "legend(\"theta_1\", \"theta_2\", \"theta_3\")\n",
    "xlabel(\"time (t)\");\n",
    "ylabel(\"theta\");\n",
    "hold off;"
   ]
  },
  {
   "cell_type": "markdown",
   "id": "5642d8f6",
   "metadata": {},
   "source": [
    "And the chart for this one shows that each of the pendula that were initially at rest will each move to counteract half of the force that the dominant pendulum exerts on the system.\n",
    "\n",
    "CHART AND VIDEO\n",
    "\n",
    "I should note that I plucked the parameters $ k, n $ out of the air. Since we have a physical system we can play around with, which is this wood thing on rollers I made, then we could measure the actual angles of the pendula at every point and then use those data points to solve for the unknown parameters. I imagine it would involve filming the pendula and then measuring the angle theta at regular intervals. I don't have the time for this step and it's not really the point of the video, but it's possible.\n",
    "\n",
    "It has been fun to build the wooden thing and fun also to talk about using Octave to do this, so I hope you find it useful.\n",
    "\n",
    "If you check the description you will find links covering:\n",
    "- how to derive the differential equation of a pendulum\n",
    "- how to setup Jupyter Notebook to run using Octave\n",
    "- documentation about how to choose a numerical method\n",
    "- the script and code to find these solutions\n",
    "- how to install the OCL package so that you can use ODE solvers in Gnu Octave\n",
    "\n",
    "Please leave a comment to share what you found interesting or suprising, or if you have any feedback.\n",
    "\n",
    "Thanks for watching."
   ]
  },
  {
   "cell_type": "code",
   "execution_count": null,
   "id": "081ff9f5",
   "metadata": {},
   "outputs": [],
   "source": []
  }
 ],
 "metadata": {
  "kernelspec": {
   "display_name": "Octave",
   "language": "octave",
   "name": "octave"
  },
  "language_info": {
   "file_extension": ".m",
   "help_links": [
    {
     "text": "GNU Octave",
     "url": "https://www.gnu.org/software/octave/support.html"
    },
    {
     "text": "Octave Kernel",
     "url": "https://github.com/Calysto/octave_kernel"
    },
    {
     "text": "MetaKernel Magics",
     "url": "https://metakernel.readthedocs.io/en/latest/source/README.html"
    }
   ],
   "mimetype": "text/x-octave",
   "name": "octave",
   "version": "6.4.0"
  }
 },
 "nbformat": 4,
 "nbformat_minor": 5
}
